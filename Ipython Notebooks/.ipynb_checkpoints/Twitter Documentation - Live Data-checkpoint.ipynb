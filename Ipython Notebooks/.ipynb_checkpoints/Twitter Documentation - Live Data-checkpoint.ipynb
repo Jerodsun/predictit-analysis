{
 "cells": [
  {
   "cell_type": "markdown",
   "metadata": {},
   "source": [
    "# Live Data Pull from Twitter, Feb 2019"
   ]
  },
  {
   "cell_type": "code",
   "execution_count": null,
   "metadata": {},
   "outputs": [],
   "source": [
    "print(\"Hello World! This was created on Feb 22, 2019. Update on 2/25/2019\")"
   ]
  },
  {
   "cell_type": "markdown",
   "metadata": {},
   "source": [
    "Here is an outline of the Twitter live tweet module:\n",
    "\n",
    "* Notification given by sound and text on console that a tweet has occured;\n",
    "* Notification provides timestamp and current tweet count; optional function for count beyond last mark.\n",
    "\n",
    "__A simple notification tool whenever a tweet occurs.__"
   ]
  },
  {
   "cell_type": "markdown",
   "metadata": {},
   "source": [
    "Note: class instantiated.\n",
    "\n",
    "Instantiate class with bar = TwitterPull(\"tweethandle\")\n",
    "\n",
    "Preliminaries:"
   ]
  },
  {
   "cell_type": "code",
   "execution_count": null,
   "metadata": {},
   "outputs": [],
   "source": [
    "import time\n",
    "from datetime import datetime\n",
    "import tweepy\n",
    "from pygame import mixer\n",
    "from gtts import gTTS\n",
    "\n",
    "auth = tweepy.OAuthHandler(consumer_key, consumer_secret) #needs to be set.\n",
    "auth.set_access_token(access_token, access_token_secret)\n",
    "\n",
    "api = tweepy.API(auth)"
   ]
  },
  {
   "cell_type": "markdown",
   "metadata": {},
   "source": [
    "Pygame mixer offers a playing function; gtts is google text-to-speech. All can be installed with pip install.\n",
    "\n",
    "Similar to historical tweet pull."
   ]
  },
  {
   "cell_type": "code",
   "execution_count": null,
   "metadata": {},
   "outputs": [],
   "source": [
    "class TwitterPull:\n",
    "    def __init__(self, handle = \"RealDonaldTrump\", first = 0):\n",
    "        self._handle = handle\n",
    "        self._a = None\n",
    "        self._b = None\n",
    "        self._stat = None\n",
    "        self._first = first\n",
    "        \n",
    "    def pull(self):\n",
    "        \"\"\"Function to refresh and check for updates; get_user refreshes data.\n",
    "        If user tweets, then the counter updates and plays a sound notification.\"\"\"\n",
    "        read = []\n",
    "        User = api.get_user(self._handle) \n",
    "        if User.statuses_count == self._stat:\n",
    "            pass\n",
    "        else:\n",
    "            diff = User.statuses_count - self._stat\n",
    "            self._stat = User.statuses_count\n",
    "            text = \"New tweet from \" + self._handle + \"! Currently at \" + str(self._stat - self._first)\n",
    "            print(self._timerefresh(), text)\n",
    "            tts = gTTS(text)\n",
    "            tts.save(\"RDTs.mp3\")\n",
    "            self.play(\"RDTs.mp3\")\n",
    "\n",
    "            for tweet in tweepy.Cursor(api.user_timeline, id=\"realdonaldtrump\", tweet_mode = \"extended\").items(diff):\n",
    "                read.append(tweet)\n",
    "            read.reverse()\n",
    "            tts = gTTS(\"\".join(read))\n",
    "            tts.save(\"Trumptext.mp3\")\n",
    "            self.play(\"Trumptext.mp3\")\n",
    "            "
   ]
  },
  {
   "cell_type": "markdown",
   "metadata": {},
   "source": [
    "__Something interesting here: If multiple tweets come at once, then they are read in order together. This is a good way to practice array queues or other queue implementations. Otherwise tweets come one by one and are read one by one.__\n",
    "\n",
    "Relies on three basic functions: Sleep, Play (sound), and Time refresh\n",
    "\n",
    "_Could_ split it up into another call so it's less wordy.\n"
   ]
  },
  {
   "cell_type": "code",
   "execution_count": null,
   "metadata": {},
   "outputs": [],
   "source": [
    "    def sleep(self, t = 20):\n",
    "        \"\"\"Sleep t seconds.\"\"\"\n",
    "        time.sleep(t)\n",
    "    \n",
    "    def play(self, file):\n",
    "            mixer.init()\n",
    "            mixer.music.load(file)\n",
    "            mixer.music.play()\n",
    "    \n",
    "    def _timerefresh(self):\n",
    "        \"\"\"Refresh the current time, Return a timestamp string: day/hour/min\n",
    "        Ex:\n",
    "            '02/05 19:49'\n",
    "        \"\"\"\n",
    "        timestamp = datetime.now().strftime('%m/%d %H:%M')\n",
    "        return timestamp"
   ]
  },
  {
   "cell_type": "markdown",
   "metadata": {},
   "source": [
    "### The function to pull data continuously."
   ]
  },
  {
   "cell_type": "code",
   "execution_count": null,
   "metadata": {},
   "outputs": [],
   "source": [
    "    def continuouspull(self, n = 60*12):\n",
    "        #default: half a day\n",
    "        User = api.get_user(\"RealDonaldTrump\"); self._stat = User.statuses_count\n",
    "\n",
    "        print(str(User.statuses_count) + \" currently.\")\n",
    "\n",
    "        for i in range(n):\n",
    "            try:\n",
    "                self.pull()\n",
    "            except:\n",
    "                input(\"pull failed..\" + str(self._timerefresh()))\n",
    "            self.sleep(20)\n"
   ]
  }
 ],
 "metadata": {
  "kernelspec": {
   "display_name": "Python 3",
   "language": "python",
   "name": "python3"
  },
  "language_info": {
   "codemirror_mode": {
    "name": "ipython",
    "version": 3
   },
   "file_extension": ".py",
   "mimetype": "text/x-python",
   "name": "python",
   "nbconvert_exporter": "python",
   "pygments_lexer": "ipython3",
   "version": "3.7.1"
  }
 },
 "nbformat": 4,
 "nbformat_minor": 2
}
